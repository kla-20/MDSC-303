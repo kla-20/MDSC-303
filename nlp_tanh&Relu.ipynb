{
  "cells": [
    {
      "cell_type": "markdown",
      "source": [
        "## Tanh and ReLU implementation"
      ],
      "metadata": {
        "id": "u1uM6VwwCogt"
      },
      "id": "u1uM6VwwCogt"
    },
    {
      "cell_type": "code",
      "execution_count": 58,
      "metadata": {
        "id": "054dad33"
      },
      "outputs": [],
      "source": [
        "import math\n",
        "import numpy as np\n",
        "import matplotlib.pyplot as plt\n",
        "%matplotlib inline"
      ],
      "id": "054dad33"
    },
    {
      "cell_type": "code",
      "execution_count": 59,
      "metadata": {
        "id": "581df095"
      },
      "outputs": [],
      "source": [
        "from graphviz import Digraph\n",
        "\n",
        "def trace(root):\n",
        "    nodes, edges= set(), set()\n",
        "    def build(v):\n",
        "        if v not in nodes:\n",
        "            nodes.add(v)\n",
        "            for child in v._prev:\n",
        "                edges.add((child,v))\n",
        "                build(child)\n",
        "    build(root)\n",
        "    return nodes, edges"
      ],
      "id": "581df095"
    },
    {
      "cell_type": "code",
      "execution_count": 60,
      "metadata": {
        "id": "577ff9c7"
      },
      "outputs": [],
      "source": [
        "def draw_dot(root):\n",
        "    dot= Digraph(format='svg', graph_attr={'rankdir':'LR'})\n",
        "    nodes, edges= trace(root)\n",
        "    for n in nodes:\n",
        "        uid= str(id(n))\n",
        "        dot.node(name= uid, label= \"{%s | data %.4f | grad %.4f}\" % (n.label, n.data, n.grad), shape='record')\n",
        "        if n._op:\n",
        "            dot.node(name= uid + n._op, label= n._op)\n",
        "            dot.edge(uid+n._op, uid)\n",
        "    for n1, n2 in edges:\n",
        "        dot.edge(str(id(n1)), str(id(n2)) + n2._op)\n",
        "    return dot"
      ],
      "id": "577ff9c7"
    },
    {
      "cell_type": "code",
      "source": [
        "# the real Big Deal !!\n",
        "class Value:\n",
        "\n",
        "    def __init__(self, data, _children=(), _op='', label=''):\n",
        "        self.data= data\n",
        "        self.grad= 0.0\n",
        "        self._prev= set(_children)\n",
        "        self._op= _op\n",
        "        self.label= label\n",
        "        self._backward= lambda: None\n",
        "\n",
        "    def __repr__(self):\n",
        "        return f\"Value(data= {self.data})\"\n",
        "\n",
        "    def __add__(self, other):\n",
        "        out= Value(self.data + other.data,(self,other),'+')\n",
        "        def _backward():\n",
        "            self.grad+= out.grad * 1.0\n",
        "            other.grad+= out.grad * 1.0\n",
        "        out._backward= _backward\n",
        "        return out\n",
        "\n",
        "    def __sub__(self, other):\n",
        "        out= Value(self.data - other.data,(self,other),'-')\n",
        "        def _backward():\n",
        "            self.grad+= out.grad * 1.0\n",
        "            other.grad-= out.grad * 1.0\n",
        "        out._backward= _backward\n",
        "        return out\n",
        "\n",
        "    def __mul__(self, other):\n",
        "        out= Value(self.data * other.data,(self,other),'*')\n",
        "        def _backward():\n",
        "            self.grad+= out.grad * other.data\n",
        "            other.grad+= out.grad * self.data\n",
        "        out._backward= _backward\n",
        "        return out\n",
        "\n",
        "    def __pow__(self, exponent):\n",
        "      out = Value(self.data ** exponent.data, (self, exponent), '**')\n",
        "      def _backward():\n",
        "          self.grad += out.grad * (exponent.data * self.data ** (exponent.data - 1.0))\n",
        "          exponent.grad += out.grad * (self.data ** exponent.data * math.log(self.data))\n",
        "      out._backward = _backward\n",
        "      return out\n",
        "\n",
        "\n",
        "    # Adding reverse dunder functions\n",
        "\n",
        "    def __radd__(self,other):\n",
        "      out= Value(self.data + other.data,(self,other),'+')\n",
        "      def _backward():\n",
        "        self.grad+= out.grad * 1.0\n",
        "        other.grad+= out.grad * 1.0\n",
        "      out._backward= _backward\n",
        "      return out\n",
        "\n",
        "    def __rmul__(self,other):\n",
        "      out= Value(self.data * other.data,(self,other),'*')\n",
        "      def _backward():\n",
        "        self.grad+= out.grad * 1.0\n",
        "        other.grad+= out.grad * 1.0\n",
        "      out._backward= _backward\n",
        "      return out\n",
        "\n",
        "    def __rsub__(self,other):\n",
        "      out= Value(other.data - self.data,(self,other),'-')\n",
        "      def _backward():\n",
        "        self.grad-= out.grad * 1.0\n",
        "        other.grad+= out.grad * 1.0\n",
        "      out._backward= _backward\n",
        "      return out\n",
        "\n",
        "    def tanh(self):\n",
        "      x= self.data\n",
        "      e= math.e\n",
        "      t= (e**(2*x) - 1) / (e**(2*x) + 1)\n",
        "      out= Value(t, (self,), 'tanh')\n",
        "      def _backward():\n",
        "        self.grad= out.grad * (1 - t**2)\n",
        "      out._backward= _backward\n",
        "      return out\n",
        "\n",
        "    def ReLU(self):\n",
        "      x = self.data\n",
        "      if(x<=0):\n",
        "        t = 0\n",
        "      else:\n",
        "        t=self.data\n",
        "      out= Value(t, (self,), 'ReLU')\n",
        "      def _backward():\n",
        "        if(x<=0):\n",
        "          self.grad= out.grad * (0)\n",
        "        else:\n",
        "          self.grad= out.grad * 1\n",
        "      out._backward= _backward\n",
        "      return out\n",
        "\n",
        "    def backward(self):\n",
        "        topo= []\n",
        "        visited= set()\n",
        "        def build_topo(v):\n",
        "            if v not in visited:\n",
        "                visited.add(v)\n",
        "                for child in v._prev:\n",
        "                    build_topo(child)\n",
        "                topo.append(v)\n",
        "        build_topo(self)\n",
        "        self.grad= 1\n",
        "        for node in reversed(topo):\n",
        "            node._backward()"
      ],
      "metadata": {
        "id": "bGSkNUGrA9AM"
      },
      "id": "bGSkNUGrA9AM",
      "execution_count": 107,
      "outputs": []
    },
    {
      "cell_type": "markdown",
      "source": [
        "# Tanh Activation function"
      ],
      "metadata": {
        "id": "xPFQLPbJWDU0"
      },
      "id": "xPFQLPbJWDU0"
    },
    {
      "cell_type": "code",
      "execution_count": 108,
      "metadata": {
        "id": "GkMsfA4Lyls6"
      },
      "outputs": [],
      "source": [
        "x1= Value(2.0, label='x1')\n",
        "x2= Value(0.0, label='x2')\n",
        "w1= Value(-3.0, label='w1')\n",
        "w2= Value(1.0, label='w2')\n",
        "b= Value(6.8813735870195432, label='b')\n",
        "x1w1= x1 * w1; x1w1.label= 'x1 * w1'\n",
        "x2w2= x2 * w2; x2w2.label= 'x2 * w2'\n",
        "x1w1x2w2 = x1w1 + x2w2; x1w1x2w2.label= 'x1*w1 + x2*w2'\n",
        "n= x1w1x2w2 + b; n.label= 'n'\n",
        "o= n.tanh(); o.label= 'o';"
      ],
      "id": "GkMsfA4Lyls6"
    },
    {
      "cell_type": "code",
      "execution_count": 103,
      "metadata": {
        "colab": {
          "base_uri": "https://localhost:8080/",
          "height": 321
        },
        "id": "GiGx3OjwytyA",
        "outputId": "ea76a767-24dc-4cad-e2c0-a3e8c7b58249"
      },
      "outputs": [
        {
          "output_type": "execute_result",
          "data": {
            "image/svg+xml": "<?xml version=\"1.0\" encoding=\"UTF-8\" standalone=\"no\"?>\n<!DOCTYPE svg PUBLIC \"-//W3C//DTD SVG 1.1//EN\"\n \"http://www.w3.org/Graphics/SVG/1.1/DTD/svg11.dtd\">\n<!-- Generated by graphviz version 2.43.0 (0)\n -->\n<!-- Title: %3 Pages: 1 -->\n<svg width=\"1583pt\" height=\"210pt\"\n viewBox=\"0.00 0.00 1583.00 210.00\" xmlns=\"http://www.w3.org/2000/svg\" xmlns:xlink=\"http://www.w3.org/1999/xlink\">\n<g id=\"graph0\" class=\"graph\" transform=\"scale(1 1) rotate(0) translate(4 206)\">\n<title>%3</title>\n<polygon fill=\"white\" stroke=\"transparent\" points=\"-4,4 -4,-206 1579,-206 1579,4 -4,4\"/>\n<!-- 135823050890240 -->\n<g id=\"node1\" class=\"node\">\n<title>135823050890240</title>\n<polygon fill=\"none\" stroke=\"black\" points=\"328.5,-55.5 328.5,-91.5 551.5,-91.5 551.5,-55.5 328.5,-55.5\"/>\n<text text-anchor=\"middle\" x=\"359\" y=\"-69.8\" font-family=\"Times,serif\" font-size=\"14.00\">x2 * w2</text>\n<polyline fill=\"none\" stroke=\"black\" points=\"389.5,-55.5 389.5,-91.5 \"/>\n<text text-anchor=\"middle\" x=\"429.5\" y=\"-69.8\" font-family=\"Times,serif\" font-size=\"14.00\">data 0.0000</text>\n<polyline fill=\"none\" stroke=\"black\" points=\"469.5,-55.5 469.5,-91.5 \"/>\n<text text-anchor=\"middle\" x=\"510.5\" y=\"-69.8\" font-family=\"Times,serif\" font-size=\"14.00\">grad 0.0000</text>\n</g>\n<!-- 135823050894656+ -->\n<g id=\"node9\" class=\"node\">\n<title>135823050894656+</title>\n<ellipse fill=\"none\" stroke=\"black\" cx=\"617\" cy=\"-100.5\" rx=\"27\" ry=\"18\"/>\n<text text-anchor=\"middle\" x=\"617\" y=\"-96.8\" font-family=\"Times,serif\" font-size=\"14.00\">+</text>\n</g>\n<!-- 135823050890240&#45;&gt;135823050894656+ -->\n<g id=\"edge14\" class=\"edge\">\n<title>135823050890240&#45;&gt;135823050894656+</title>\n<path fill=\"none\" stroke=\"black\" d=\"M551.83,-90.6C562.05,-92.18 571.82,-93.68 580.51,-95.02\"/>\n<polygon fill=\"black\" stroke=\"black\" points=\"580.12,-98.51 590.54,-96.57 581.19,-91.59 580.12,-98.51\"/>\n</g>\n<!-- 135823050890240* -->\n<g id=\"node2\" class=\"node\">\n<title>135823050890240*</title>\n<ellipse fill=\"none\" stroke=\"black\" cx=\"263\" cy=\"-73.5\" rx=\"27\" ry=\"18\"/>\n<text text-anchor=\"middle\" x=\"263\" y=\"-69.8\" font-family=\"Times,serif\" font-size=\"14.00\">*</text>\n</g>\n<!-- 135823050890240*&#45;&gt;135823050890240 -->\n<g id=\"edge1\" class=\"edge\">\n<title>135823050890240*&#45;&gt;135823050890240</title>\n<path fill=\"none\" stroke=\"black\" d=\"M290.2,-73.5C298.36,-73.5 307.96,-73.5 318.28,-73.5\"/>\n<polygon fill=\"black\" stroke=\"black\" points=\"318.37,-77 328.37,-73.5 318.37,-70 318.37,-77\"/>\n</g>\n<!-- 135823050897008 -->\n<g id=\"node3\" class=\"node\">\n<title>135823050897008</title>\n<polygon fill=\"none\" stroke=\"black\" points=\"1390,-109.5 1390,-145.5 1575,-145.5 1575,-109.5 1390,-109.5\"/>\n<text text-anchor=\"middle\" x=\"1401.5\" y=\"-123.8\" font-family=\"Times,serif\" font-size=\"14.00\">o</text>\n<polyline fill=\"none\" stroke=\"black\" points=\"1413,-109.5 1413,-145.5 \"/>\n<text text-anchor=\"middle\" x=\"1453\" y=\"-123.8\" font-family=\"Times,serif\" font-size=\"14.00\">data 0.7071</text>\n<polyline fill=\"none\" stroke=\"black\" points=\"1493,-109.5 1493,-145.5 \"/>\n<text text-anchor=\"middle\" x=\"1534\" y=\"-123.8\" font-family=\"Times,serif\" font-size=\"14.00\">grad 0.0000</text>\n</g>\n<!-- 135823050897008tanh -->\n<g id=\"node4\" class=\"node\">\n<title>135823050897008tanh</title>\n<ellipse fill=\"none\" stroke=\"black\" cx=\"1327\" cy=\"-127.5\" rx=\"27\" ry=\"18\"/>\n<text text-anchor=\"middle\" x=\"1327\" y=\"-123.8\" font-family=\"Times,serif\" font-size=\"14.00\">tanh</text>\n</g>\n<!-- 135823050897008tanh&#45;&gt;135823050897008 -->\n<g id=\"edge2\" class=\"edge\">\n<title>135823050897008tanh&#45;&gt;135823050897008</title>\n<path fill=\"none\" stroke=\"black\" d=\"M1354.04,-127.5C1361.58,-127.5 1370.3,-127.5 1379.57,-127.5\"/>\n<polygon fill=\"black\" stroke=\"black\" points=\"1379.81,-131 1389.81,-127.5 1379.81,-124 1379.81,-131\"/>\n</g>\n<!-- 135823049918592 -->\n<g id=\"node5\" class=\"node\">\n<title>135823049918592</title>\n<polygon fill=\"none\" stroke=\"black\" points=\"724,-137.5 724,-173.5 909,-173.5 909,-137.5 724,-137.5\"/>\n<text text-anchor=\"middle\" x=\"735.5\" y=\"-151.8\" font-family=\"Times,serif\" font-size=\"14.00\">b</text>\n<polyline fill=\"none\" stroke=\"black\" points=\"747,-137.5 747,-173.5 \"/>\n<text text-anchor=\"middle\" x=\"787\" y=\"-151.8\" font-family=\"Times,serif\" font-size=\"14.00\">data 6.8814</text>\n<polyline fill=\"none\" stroke=\"black\" points=\"827,-137.5 827,-173.5 \"/>\n<text text-anchor=\"middle\" x=\"868\" y=\"-151.8\" font-family=\"Times,serif\" font-size=\"14.00\">grad 0.0000</text>\n</g>\n<!-- 135823050893696+ -->\n<g id=\"node13\" class=\"node\">\n<title>135823050893696+</title>\n<ellipse fill=\"none\" stroke=\"black\" cx=\"1016\" cy=\"-127.5\" rx=\"27\" ry=\"18\"/>\n<text text-anchor=\"middle\" x=\"1016\" y=\"-123.8\" font-family=\"Times,serif\" font-size=\"14.00\">+</text>\n</g>\n<!-- 135823049918592&#45;&gt;135823050893696+ -->\n<g id=\"edge9\" class=\"edge\">\n<title>135823049918592&#45;&gt;135823050893696+</title>\n<path fill=\"none\" stroke=\"black\" d=\"M909.02,-142.52C934,-138.98 959.59,-135.36 979.37,-132.55\"/>\n<polygon fill=\"black\" stroke=\"black\" points=\"980.03,-135.99 989.43,-131.12 979.04,-129.06 980.03,-135.99\"/>\n</g>\n<!-- 135823049931024 -->\n<g id=\"node6\" class=\"node\">\n<title>135823049931024</title>\n<polygon fill=\"none\" stroke=\"black\" points=\"4,-165.5 4,-201.5 196,-201.5 196,-165.5 4,-165.5\"/>\n<text text-anchor=\"middle\" x=\"19\" y=\"-179.8\" font-family=\"Times,serif\" font-size=\"14.00\">x1</text>\n<polyline fill=\"none\" stroke=\"black\" points=\"34,-165.5 34,-201.5 \"/>\n<text text-anchor=\"middle\" x=\"74\" y=\"-179.8\" font-family=\"Times,serif\" font-size=\"14.00\">data 2.0000</text>\n<polyline fill=\"none\" stroke=\"black\" points=\"114,-165.5 114,-201.5 \"/>\n<text text-anchor=\"middle\" x=\"155\" y=\"-179.8\" font-family=\"Times,serif\" font-size=\"14.00\">grad 0.0000</text>\n</g>\n<!-- 135823050886592* -->\n<g id=\"node15\" class=\"node\">\n<title>135823050886592*</title>\n<ellipse fill=\"none\" stroke=\"black\" cx=\"263\" cy=\"-128.5\" rx=\"27\" ry=\"18\"/>\n<text text-anchor=\"middle\" x=\"263\" y=\"-124.8\" font-family=\"Times,serif\" font-size=\"14.00\">*</text>\n</g>\n<!-- 135823049931024&#45;&gt;135823050886592* -->\n<g id=\"edge11\" class=\"edge\">\n<title>135823049931024&#45;&gt;135823050886592*</title>\n<path fill=\"none\" stroke=\"black\" d=\"M172.53,-165.44C181.84,-162.67 191.2,-159.67 200,-156.5 210.53,-152.71 221.75,-147.9 231.72,-143.33\"/>\n<polygon fill=\"black\" stroke=\"black\" points=\"233.25,-146.48 240.82,-139.07 230.28,-140.14 233.25,-146.48\"/>\n</g>\n<!-- 135823049919792 -->\n<g id=\"node7\" class=\"node\">\n<title>135823049919792</title>\n<polygon fill=\"none\" stroke=\"black\" points=\"2.5,-55.5 2.5,-91.5 197.5,-91.5 197.5,-55.5 2.5,-55.5\"/>\n<text text-anchor=\"middle\" x=\"19\" y=\"-69.8\" font-family=\"Times,serif\" font-size=\"14.00\">w2</text>\n<polyline fill=\"none\" stroke=\"black\" points=\"35.5,-55.5 35.5,-91.5 \"/>\n<text text-anchor=\"middle\" x=\"75.5\" y=\"-69.8\" font-family=\"Times,serif\" font-size=\"14.00\">data 1.0000</text>\n<polyline fill=\"none\" stroke=\"black\" points=\"115.5,-55.5 115.5,-91.5 \"/>\n<text text-anchor=\"middle\" x=\"156.5\" y=\"-69.8\" font-family=\"Times,serif\" font-size=\"14.00\">grad 0.0000</text>\n</g>\n<!-- 135823049919792&#45;&gt;135823050890240* -->\n<g id=\"edge10\" class=\"edge\">\n<title>135823049919792&#45;&gt;135823050890240*</title>\n<path fill=\"none\" stroke=\"black\" d=\"M197.91,-73.5C207.65,-73.5 217.05,-73.5 225.52,-73.5\"/>\n<polygon fill=\"black\" stroke=\"black\" points=\"225.7,-77 235.7,-73.5 225.7,-70 225.7,-77\"/>\n</g>\n<!-- 135823050894656 -->\n<g id=\"node8\" class=\"node\">\n<title>135823050894656</title>\n<polygon fill=\"none\" stroke=\"black\" points=\"680,-82.5 680,-118.5 953,-118.5 953,-82.5 680,-82.5\"/>\n<text text-anchor=\"middle\" x=\"733\" y=\"-96.8\" font-family=\"Times,serif\" font-size=\"14.00\">x1*w1 + x2*w2</text>\n<polyline fill=\"none\" stroke=\"black\" points=\"786,-82.5 786,-118.5 \"/>\n<text text-anchor=\"middle\" x=\"828.5\" y=\"-96.8\" font-family=\"Times,serif\" font-size=\"14.00\">data &#45;6.0000</text>\n<polyline fill=\"none\" stroke=\"black\" points=\"871,-82.5 871,-118.5 \"/>\n<text text-anchor=\"middle\" x=\"912\" y=\"-96.8\" font-family=\"Times,serif\" font-size=\"14.00\">grad 0.0000</text>\n</g>\n<!-- 135823050894656&#45;&gt;135823050893696+ -->\n<g id=\"edge13\" class=\"edge\">\n<title>135823050894656&#45;&gt;135823050893696+</title>\n<path fill=\"none\" stroke=\"black\" d=\"M949.24,-118.51C960.12,-120 970.4,-121.4 979.45,-122.64\"/>\n<polygon fill=\"black\" stroke=\"black\" points=\"979.11,-126.13 989.49,-124.01 980.05,-119.19 979.11,-126.13\"/>\n</g>\n<!-- 135823050894656+&#45;&gt;135823050894656 -->\n<g id=\"edge3\" class=\"edge\">\n<title>135823050894656+&#45;&gt;135823050894656</title>\n<path fill=\"none\" stroke=\"black\" d=\"M644.23,-100.5C651.7,-100.5 660.41,-100.5 669.87,-100.5\"/>\n<polygon fill=\"black\" stroke=\"black\" points=\"669.98,-104 679.98,-100.5 669.98,-97 669.98,-104\"/>\n</g>\n<!-- 135823400117600 -->\n<g id=\"node10\" class=\"node\">\n<title>135823400117600</title>\n<polygon fill=\"none\" stroke=\"black\" points=\"0,-110.5 0,-146.5 200,-146.5 200,-110.5 0,-110.5\"/>\n<text text-anchor=\"middle\" x=\"16.5\" y=\"-124.8\" font-family=\"Times,serif\" font-size=\"14.00\">w1</text>\n<polyline fill=\"none\" stroke=\"black\" points=\"33,-110.5 33,-146.5 \"/>\n<text text-anchor=\"middle\" x=\"75.5\" y=\"-124.8\" font-family=\"Times,serif\" font-size=\"14.00\">data &#45;3.0000</text>\n<polyline fill=\"none\" stroke=\"black\" points=\"118,-110.5 118,-146.5 \"/>\n<text text-anchor=\"middle\" x=\"159\" y=\"-124.8\" font-family=\"Times,serif\" font-size=\"14.00\">grad 0.0000</text>\n</g>\n<!-- 135823400117600&#45;&gt;135823050886592* -->\n<g id=\"edge7\" class=\"edge\">\n<title>135823400117600&#45;&gt;135823050886592*</title>\n<path fill=\"none\" stroke=\"black\" d=\"M200.21,-128.5C209.2,-128.5 217.86,-128.5 225.7,-128.5\"/>\n<polygon fill=\"black\" stroke=\"black\" points=\"225.85,-132 235.85,-128.5 225.85,-125 225.85,-132\"/>\n</g>\n<!-- 135823049918832 -->\n<g id=\"node11\" class=\"node\">\n<title>135823049918832</title>\n<polygon fill=\"none\" stroke=\"black\" points=\"4,-0.5 4,-36.5 196,-36.5 196,-0.5 4,-0.5\"/>\n<text text-anchor=\"middle\" x=\"19\" y=\"-14.8\" font-family=\"Times,serif\" font-size=\"14.00\">x2</text>\n<polyline fill=\"none\" stroke=\"black\" points=\"34,-0.5 34,-36.5 \"/>\n<text text-anchor=\"middle\" x=\"74\" y=\"-14.8\" font-family=\"Times,serif\" font-size=\"14.00\">data 0.0000</text>\n<polyline fill=\"none\" stroke=\"black\" points=\"114,-0.5 114,-36.5 \"/>\n<text text-anchor=\"middle\" x=\"155\" y=\"-14.8\" font-family=\"Times,serif\" font-size=\"14.00\">grad 0.0000</text>\n</g>\n<!-- 135823049918832&#45;&gt;135823050890240* -->\n<g id=\"edge12\" class=\"edge\">\n<title>135823049918832&#45;&gt;135823050890240*</title>\n<path fill=\"none\" stroke=\"black\" d=\"M169.28,-36.5C179.65,-39.61 190.16,-42.98 200,-46.5 210.28,-50.17 221.28,-54.74 231.11,-59.07\"/>\n<polygon fill=\"black\" stroke=\"black\" points=\"229.93,-62.37 240.48,-63.27 232.79,-55.99 229.93,-62.37\"/>\n</g>\n<!-- 135823050893696 -->\n<g id=\"node12\" class=\"node\">\n<title>135823050893696</title>\n<polygon fill=\"none\" stroke=\"black\" points=\"1079,-109.5 1079,-145.5 1264,-145.5 1264,-109.5 1079,-109.5\"/>\n<text text-anchor=\"middle\" x=\"1090.5\" y=\"-123.8\" font-family=\"Times,serif\" font-size=\"14.00\">n</text>\n<polyline fill=\"none\" stroke=\"black\" points=\"1102,-109.5 1102,-145.5 \"/>\n<text text-anchor=\"middle\" x=\"1142\" y=\"-123.8\" font-family=\"Times,serif\" font-size=\"14.00\">data 0.8814</text>\n<polyline fill=\"none\" stroke=\"black\" points=\"1182,-109.5 1182,-145.5 \"/>\n<text text-anchor=\"middle\" x=\"1223\" y=\"-123.8\" font-family=\"Times,serif\" font-size=\"14.00\">grad 0.0000</text>\n</g>\n<!-- 135823050893696&#45;&gt;135823050897008tanh -->\n<g id=\"edge8\" class=\"edge\">\n<title>135823050893696&#45;&gt;135823050897008tanh</title>\n<path fill=\"none\" stroke=\"black\" d=\"M1264.01,-127.5C1273.01,-127.5 1281.74,-127.5 1289.66,-127.5\"/>\n<polygon fill=\"black\" stroke=\"black\" points=\"1289.91,-131 1299.91,-127.5 1289.91,-124 1289.91,-131\"/>\n</g>\n<!-- 135823050893696+&#45;&gt;135823050893696 -->\n<g id=\"edge4\" class=\"edge\">\n<title>135823050893696+&#45;&gt;135823050893696</title>\n<path fill=\"none\" stroke=\"black\" d=\"M1043.04,-127.5C1050.58,-127.5 1059.3,-127.5 1068.57,-127.5\"/>\n<polygon fill=\"black\" stroke=\"black\" points=\"1068.81,-131 1078.81,-127.5 1068.81,-124 1068.81,-131\"/>\n</g>\n<!-- 135823050886592 -->\n<g id=\"node14\" class=\"node\">\n<title>135823050886592</title>\n<polygon fill=\"none\" stroke=\"black\" points=\"326,-110.5 326,-146.5 554,-146.5 554,-110.5 326,-110.5\"/>\n<text text-anchor=\"middle\" x=\"356.5\" y=\"-124.8\" font-family=\"Times,serif\" font-size=\"14.00\">x1 * w1</text>\n<polyline fill=\"none\" stroke=\"black\" points=\"387,-110.5 387,-146.5 \"/>\n<text text-anchor=\"middle\" x=\"429.5\" y=\"-124.8\" font-family=\"Times,serif\" font-size=\"14.00\">data &#45;6.0000</text>\n<polyline fill=\"none\" stroke=\"black\" points=\"472,-110.5 472,-146.5 \"/>\n<text text-anchor=\"middle\" x=\"513\" y=\"-124.8\" font-family=\"Times,serif\" font-size=\"14.00\">grad 0.0000</text>\n</g>\n<!-- 135823050886592&#45;&gt;135823050894656+ -->\n<g id=\"edge6\" class=\"edge\">\n<title>135823050886592&#45;&gt;135823050894656+</title>\n<path fill=\"none\" stroke=\"black\" d=\"M553.81,-110.45C563.28,-108.93 572.32,-107.49 580.43,-106.19\"/>\n<polygon fill=\"black\" stroke=\"black\" points=\"581.19,-109.61 590.51,-104.58 580.08,-102.7 581.19,-109.61\"/>\n</g>\n<!-- 135823050886592*&#45;&gt;135823050886592 -->\n<g id=\"edge5\" class=\"edge\">\n<title>135823050886592*&#45;&gt;135823050886592</title>\n<path fill=\"none\" stroke=\"black\" d=\"M290.2,-128.5C297.62,-128.5 306.23,-128.5 315.48,-128.5\"/>\n<polygon fill=\"black\" stroke=\"black\" points=\"315.76,-132 325.76,-128.5 315.76,-125 315.76,-132\"/>\n</g>\n</g>\n</svg>\n",
            "text/plain": [
              "<graphviz.graphs.Digraph at 0x7b87c4a49000>"
            ]
          },
          "metadata": {},
          "execution_count": 103
        }
      ],
      "source": [
        "draw_dot(o)"
      ],
      "id": "GiGx3OjwytyA"
    },
    {
      "cell_type": "markdown",
      "source": [
        "# ReLU Activation Function"
      ],
      "metadata": {
        "id": "sr4Yyg-sWGhH"
      },
      "id": "sr4Yyg-sWGhH"
    },
    {
      "cell_type": "code",
      "source": [
        "\n",
        "x1= Value(1, label='x1')\n",
        "x2= Value(0, label='x2')\n",
        "\n",
        "w11 = Value(3.0, label='w11')\n",
        "w12 = Value(1.0, label='w12')\n",
        "\n",
        "w21 = Value(2.5, label='w21')\n",
        "w22 = Value(2.0, label='w22')\n",
        "\n",
        "N1= (x1 * w11) + (x2 * w21)\n",
        "N1.label= 'N1'\n",
        "\n",
        "N2= (x1 * w12) + (x2 * w22)\n",
        "N2.label= 'N2'\n",
        "\n",
        "w3= Value(2.0, label='w3')\n",
        "w4= Value(3.0, label='w4')\n",
        "\n",
        "Fin = (N1 * w3) + (N2 * w4)\n",
        "Fin.label= 'Fin'\n",
        "Out= Fin.ReLU()\n",
        "Out.label= 'Out';"
      ],
      "metadata": {
        "id": "aqMypcBoC7HA"
      },
      "id": "aqMypcBoC7HA",
      "execution_count": 111,
      "outputs": []
    },
    {
      "cell_type": "code",
      "source": [
        "draw_dot(Out)"
      ],
      "metadata": {
        "colab": {
          "base_uri": "https://localhost:8080/",
          "height": 468
        },
        "id": "hp7Nb1aAPEr2",
        "outputId": "27d60a89-f4f7-491f-b275-ad58d9a9777b"
      },
      "id": "hp7Nb1aAPEr2",
      "execution_count": 112,
      "outputs": [
        {
          "output_type": "execute_result",
          "data": {
            "image/svg+xml": "<?xml version=\"1.0\" encoding=\"UTF-8\" standalone=\"no\"?>\n<!DOCTYPE svg PUBLIC \"-//W3C//DTD SVG 1.1//EN\"\n \"http://www.w3.org/Graphics/SVG/1.1/DTD/svg11.dtd\">\n<!-- Generated by graphviz version 2.43.0 (0)\n -->\n<!-- Title: %3 Pages: 1 -->\n<svg width=\"1806pt\" height=\"320pt\"\n viewBox=\"0.00 0.00 1805.99 320.00\" xmlns=\"http://www.w3.org/2000/svg\" xmlns:xlink=\"http://www.w3.org/1999/xlink\">\n<g id=\"graph0\" class=\"graph\" transform=\"scale(1 1) rotate(0) translate(4 316)\">\n<title>%3</title>\n<polygon fill=\"white\" stroke=\"transparent\" points=\"-4,4 -4,-316 1801.99,-316 1801.99,4 -4,4\"/>\n<!-- 135823050885680 -->\n<g id=\"node1\" class=\"node\">\n<title>135823050885680</title>\n<polygon fill=\"none\" stroke=\"black\" points=\"328,-55.5 328,-91.5 510,-91.5 510,-55.5 328,-55.5\"/>\n<text text-anchor=\"middle\" x=\"338\" y=\"-69.8\" font-family=\"Times,serif\" font-size=\"14.00\"> </text>\n<polyline fill=\"none\" stroke=\"black\" points=\"348,-55.5 348,-91.5 \"/>\n<text text-anchor=\"middle\" x=\"388\" y=\"-69.8\" font-family=\"Times,serif\" font-size=\"14.00\">data 0.0000</text>\n<polyline fill=\"none\" stroke=\"black\" points=\"428,-55.5 428,-91.5 \"/>\n<text text-anchor=\"middle\" x=\"469\" y=\"-69.8\" font-family=\"Times,serif\" font-size=\"14.00\">grad 0.0000</text>\n</g>\n<!-- 135823050885392+ -->\n<g id=\"node14\" class=\"node\">\n<title>135823050885392+</title>\n<ellipse fill=\"none\" stroke=\"black\" cx=\"573\" cy=\"-100.5\" rx=\"27\" ry=\"18\"/>\n<text text-anchor=\"middle\" x=\"573\" y=\"-96.8\" font-family=\"Times,serif\" font-size=\"14.00\">+</text>\n</g>\n<!-- 135823050885680&#45;&gt;135823050885392+ -->\n<g id=\"edge21\" class=\"edge\">\n<title>135823050885680&#45;&gt;135823050885392+</title>\n<path fill=\"none\" stroke=\"black\" d=\"M510.18,-89.52C519.42,-91.16 528.38,-92.75 536.47,-94.19\"/>\n<polygon fill=\"black\" stroke=\"black\" points=\"536.1,-97.68 546.56,-95.98 537.32,-90.79 536.1,-97.68\"/>\n</g>\n<!-- 135823050885680* -->\n<g id=\"node2\" class=\"node\">\n<title>135823050885680*</title>\n<ellipse fill=\"none\" stroke=\"black\" cx=\"265\" cy=\"-73.5\" rx=\"27\" ry=\"18\"/>\n<text text-anchor=\"middle\" x=\"265\" y=\"-69.8\" font-family=\"Times,serif\" font-size=\"14.00\">*</text>\n</g>\n<!-- 135823050885680*&#45;&gt;135823050885680 -->\n<g id=\"edge1\" class=\"edge\">\n<title>135823050885680*&#45;&gt;135823050885680</title>\n<path fill=\"none\" stroke=\"black\" d=\"M292.13,-73.5C299.67,-73.5 308.39,-73.5 317.64,-73.5\"/>\n<polygon fill=\"black\" stroke=\"black\" points=\"317.87,-77 327.87,-73.5 317.87,-70 317.87,-77\"/>\n</g>\n<!-- 135823050898544 -->\n<g id=\"node3\" class=\"node\">\n<title>135823050898544</title>\n<polygon fill=\"none\" stroke=\"black\" points=\"0,-165.5 0,-201.5 202,-201.5 202,-165.5 0,-165.5\"/>\n<text text-anchor=\"middle\" x=\"20\" y=\"-179.8\" font-family=\"Times,serif\" font-size=\"14.00\">w12</text>\n<polyline fill=\"none\" stroke=\"black\" points=\"40,-165.5 40,-201.5 \"/>\n<text text-anchor=\"middle\" x=\"80\" y=\"-179.8\" font-family=\"Times,serif\" font-size=\"14.00\">data 1.0000</text>\n<polyline fill=\"none\" stroke=\"black\" points=\"120,-165.5 120,-201.5 \"/>\n<text text-anchor=\"middle\" x=\"161\" y=\"-179.8\" font-family=\"Times,serif\" font-size=\"14.00\">grad 0.0000</text>\n</g>\n<!-- 135823050899312* -->\n<g id=\"node17\" class=\"node\">\n<title>135823050899312*</title>\n<ellipse fill=\"none\" stroke=\"black\" cx=\"265\" cy=\"-183.5\" rx=\"27\" ry=\"18\"/>\n<text text-anchor=\"middle\" x=\"265\" y=\"-179.8\" font-family=\"Times,serif\" font-size=\"14.00\">*</text>\n</g>\n<!-- 135823050898544&#45;&gt;135823050899312* -->\n<g id=\"edge12\" class=\"edge\">\n<title>135823050898544&#45;&gt;135823050899312*</title>\n<path fill=\"none\" stroke=\"black\" d=\"M202.29,-183.5C211.28,-183.5 219.93,-183.5 227.77,-183.5\"/>\n<polygon fill=\"black\" stroke=\"black\" points=\"227.91,-187 237.91,-183.5 227.91,-180 227.91,-187\"/>\n</g>\n<!-- 135823050894992 -->\n<g id=\"node4\" class=\"node\">\n<title>135823050894992</title>\n<polygon fill=\"none\" stroke=\"black\" points=\"5,-220.5 5,-256.5 197,-256.5 197,-220.5 5,-220.5\"/>\n<text text-anchor=\"middle\" x=\"20\" y=\"-234.8\" font-family=\"Times,serif\" font-size=\"14.00\">x1</text>\n<polyline fill=\"none\" stroke=\"black\" points=\"35,-220.5 35,-256.5 \"/>\n<text text-anchor=\"middle\" x=\"75\" y=\"-234.8\" font-family=\"Times,serif\" font-size=\"14.00\">data 1.0000</text>\n<polyline fill=\"none\" stroke=\"black\" points=\"115,-220.5 115,-256.5 \"/>\n<text text-anchor=\"middle\" x=\"156\" y=\"-234.8\" font-family=\"Times,serif\" font-size=\"14.00\">grad 0.0000</text>\n</g>\n<!-- 135823050883328* -->\n<g id=\"node12\" class=\"node\">\n<title>135823050883328*</title>\n<ellipse fill=\"none\" stroke=\"black\" cx=\"265\" cy=\"-238.5\" rx=\"27\" ry=\"18\"/>\n<text text-anchor=\"middle\" x=\"265\" y=\"-234.8\" font-family=\"Times,serif\" font-size=\"14.00\">*</text>\n</g>\n<!-- 135823050894992&#45;&gt;135823050883328* -->\n<g id=\"edge16\" class=\"edge\">\n<title>135823050894992&#45;&gt;135823050883328*</title>\n<path fill=\"none\" stroke=\"black\" d=\"M197.17,-238.5C207.87,-238.5 218.22,-238.5 227.45,-238.5\"/>\n<polygon fill=\"black\" stroke=\"black\" points=\"227.74,-242 237.74,-238.5 227.74,-235 227.74,-242\"/>\n</g>\n<!-- 135823050894992&#45;&gt;135823050899312* -->\n<g id=\"edge27\" class=\"edge\">\n<title>135823050894992&#45;&gt;135823050899312*</title>\n<path fill=\"none\" stroke=\"black\" d=\"M174.26,-220.48C183.66,-217.7 193.11,-214.68 202,-211.5 212.53,-207.73 223.76,-202.91 233.72,-198.34\"/>\n<polygon fill=\"black\" stroke=\"black\" points=\"235.26,-201.49 242.83,-194.08 232.29,-195.15 235.26,-201.49\"/>\n</g>\n<!-- 135822590363824 -->\n<g id=\"node5\" class=\"node\">\n<title>135822590363824</title>\n<polygon fill=\"none\" stroke=\"black\" points=\"1598.99,-109.5 1598.99,-145.5 1797.99,-145.5 1797.99,-109.5 1598.99,-109.5\"/>\n<text text-anchor=\"middle\" x=\"1617.49\" y=\"-123.8\" font-family=\"Times,serif\" font-size=\"14.00\">Out</text>\n<polyline fill=\"none\" stroke=\"black\" points=\"1635.99,-109.5 1635.99,-145.5 \"/>\n<text text-anchor=\"middle\" x=\"1675.99\" y=\"-123.8\" font-family=\"Times,serif\" font-size=\"14.00\">data 9.0000</text>\n<polyline fill=\"none\" stroke=\"black\" points=\"1715.99,-109.5 1715.99,-145.5 \"/>\n<text text-anchor=\"middle\" x=\"1756.99\" y=\"-123.8\" font-family=\"Times,serif\" font-size=\"14.00\">grad 0.0000</text>\n</g>\n<!-- 135822590363824ReLU -->\n<g id=\"node6\" class=\"node\">\n<title>135822590363824ReLU</title>\n<ellipse fill=\"none\" stroke=\"black\" cx=\"1530.5\" cy=\"-127.5\" rx=\"32.49\" ry=\"18\"/>\n<text text-anchor=\"middle\" x=\"1530.5\" y=\"-123.8\" font-family=\"Times,serif\" font-size=\"14.00\">ReLU</text>\n</g>\n<!-- 135822590363824ReLU&#45;&gt;135822590363824 -->\n<g id=\"edge2\" class=\"edge\">\n<title>135822590363824ReLU&#45;&gt;135822590363824</title>\n<path fill=\"none\" stroke=\"black\" d=\"M1563.11,-127.5C1570.85,-127.5 1579.57,-127.5 1588.75,-127.5\"/>\n<polygon fill=\"black\" stroke=\"black\" points=\"1588.88,-131 1598.88,-127.5 1588.88,-124 1588.88,-131\"/>\n</g>\n<!-- 135823050892976 -->\n<g id=\"node7\" class=\"node\">\n<title>135823050892976</title>\n<polygon fill=\"none\" stroke=\"black\" points=\"0,-275.5 0,-311.5 202,-311.5 202,-275.5 0,-275.5\"/>\n<text text-anchor=\"middle\" x=\"20\" y=\"-289.8\" font-family=\"Times,serif\" font-size=\"14.00\">w11</text>\n<polyline fill=\"none\" stroke=\"black\" points=\"40,-275.5 40,-311.5 \"/>\n<text text-anchor=\"middle\" x=\"80\" y=\"-289.8\" font-family=\"Times,serif\" font-size=\"14.00\">data 3.0000</text>\n<polyline fill=\"none\" stroke=\"black\" points=\"120,-275.5 120,-311.5 \"/>\n<text text-anchor=\"middle\" x=\"161\" y=\"-289.8\" font-family=\"Times,serif\" font-size=\"14.00\">grad 0.0000</text>\n</g>\n<!-- 135823050892976&#45;&gt;135823050883328* -->\n<g id=\"edge23\" class=\"edge\">\n<title>135823050892976&#45;&gt;135823050883328*</title>\n<path fill=\"none\" stroke=\"black\" d=\"M174.26,-275.48C183.66,-272.7 193.11,-269.68 202,-266.5 212.53,-262.73 223.76,-257.91 233.72,-253.34\"/>\n<polygon fill=\"black\" stroke=\"black\" points=\"235.26,-256.49 242.83,-249.08 232.29,-250.15 235.26,-256.49\"/>\n</g>\n<!-- 135823050886352 -->\n<g id=\"node8\" class=\"node\">\n<title>135823050886352</title>\n<polygon fill=\"none\" stroke=\"black\" points=\"636,-27.5 636,-63.5 831,-63.5 831,-27.5 636,-27.5\"/>\n<text text-anchor=\"middle\" x=\"652.5\" y=\"-41.8\" font-family=\"Times,serif\" font-size=\"14.00\">w4</text>\n<polyline fill=\"none\" stroke=\"black\" points=\"669,-27.5 669,-63.5 \"/>\n<text text-anchor=\"middle\" x=\"709\" y=\"-41.8\" font-family=\"Times,serif\" font-size=\"14.00\">data 3.0000</text>\n<polyline fill=\"none\" stroke=\"black\" points=\"749,-27.5 749,-63.5 \"/>\n<text text-anchor=\"middle\" x=\"790\" y=\"-41.8\" font-family=\"Times,serif\" font-size=\"14.00\">grad 0.0000</text>\n</g>\n<!-- 135822590370016* -->\n<g id=\"node10\" class=\"node\">\n<title>135822590370016*</title>\n<ellipse fill=\"none\" stroke=\"black\" cx=\"894\" cy=\"-100.5\" rx=\"27\" ry=\"18\"/>\n<text text-anchor=\"middle\" x=\"894\" y=\"-96.8\" font-family=\"Times,serif\" font-size=\"14.00\">*</text>\n</g>\n<!-- 135823050886352&#45;&gt;135822590370016* -->\n<g id=\"edge17\" class=\"edge\">\n<title>135823050886352&#45;&gt;135822590370016*</title>\n<path fill=\"none\" stroke=\"black\" d=\"M803.96,-63.57C813.12,-66.35 822.33,-69.35 831,-72.5 841.52,-76.32 852.74,-81.15 862.7,-85.71\"/>\n<polygon fill=\"black\" stroke=\"black\" points=\"861.27,-88.91 871.81,-89.97 864.23,-82.56 861.27,-88.91\"/>\n</g>\n<!-- 135822590370016 -->\n<g id=\"node9\" class=\"node\">\n<title>135822590370016</title>\n<polygon fill=\"none\" stroke=\"black\" points=\"957,-82.5 957,-118.5 1139,-118.5 1139,-82.5 957,-82.5\"/>\n<text text-anchor=\"middle\" x=\"967\" y=\"-96.8\" font-family=\"Times,serif\" font-size=\"14.00\"> </text>\n<polyline fill=\"none\" stroke=\"black\" points=\"977,-82.5 977,-118.5 \"/>\n<text text-anchor=\"middle\" x=\"1017\" y=\"-96.8\" font-family=\"Times,serif\" font-size=\"14.00\">data 3.0000</text>\n<polyline fill=\"none\" stroke=\"black\" points=\"1057,-82.5 1057,-118.5 \"/>\n<text text-anchor=\"middle\" x=\"1098\" y=\"-96.8\" font-family=\"Times,serif\" font-size=\"14.00\">grad 0.0000</text>\n</g>\n<!-- 135822590377792+ -->\n<g id=\"node19\" class=\"node\">\n<title>135822590377792+</title>\n<ellipse fill=\"none\" stroke=\"black\" cx=\"1202\" cy=\"-127.5\" rx=\"27\" ry=\"18\"/>\n<text text-anchor=\"middle\" x=\"1202\" y=\"-123.8\" font-family=\"Times,serif\" font-size=\"14.00\">+</text>\n</g>\n<!-- 135822590370016&#45;&gt;135822590377792+ -->\n<g id=\"edge11\" class=\"edge\">\n<title>135822590370016&#45;&gt;135822590377792+</title>\n<path fill=\"none\" stroke=\"black\" d=\"M1139.18,-116.52C1148.42,-118.16 1157.38,-119.75 1165.47,-121.19\"/>\n<polygon fill=\"black\" stroke=\"black\" points=\"1165.1,-124.68 1175.56,-122.98 1166.32,-117.79 1165.1,-124.68\"/>\n</g>\n<!-- 135822590370016*&#45;&gt;135822590370016 -->\n<g id=\"edge3\" class=\"edge\">\n<title>135822590370016*&#45;&gt;135822590370016</title>\n<path fill=\"none\" stroke=\"black\" d=\"M921.13,-100.5C928.67,-100.5 937.39,-100.5 946.64,-100.5\"/>\n<polygon fill=\"black\" stroke=\"black\" points=\"946.87,-104 956.87,-100.5 946.87,-97 946.87,-104\"/>\n</g>\n<!-- 135823050883328 -->\n<g id=\"node11\" class=\"node\">\n<title>135823050883328</title>\n<polygon fill=\"none\" stroke=\"black\" points=\"328,-220.5 328,-256.5 510,-256.5 510,-220.5 328,-220.5\"/>\n<text text-anchor=\"middle\" x=\"338\" y=\"-234.8\" font-family=\"Times,serif\" font-size=\"14.00\"> </text>\n<polyline fill=\"none\" stroke=\"black\" points=\"348,-220.5 348,-256.5 \"/>\n<text text-anchor=\"middle\" x=\"388\" y=\"-234.8\" font-family=\"Times,serif\" font-size=\"14.00\">data 3.0000</text>\n<polyline fill=\"none\" stroke=\"black\" points=\"428,-220.5 428,-256.5 \"/>\n<text text-anchor=\"middle\" x=\"469\" y=\"-234.8\" font-family=\"Times,serif\" font-size=\"14.00\">grad 0.0000</text>\n</g>\n<!-- 135823050884960+ -->\n<g id=\"node21\" class=\"node\">\n<title>135823050884960+</title>\n<ellipse fill=\"none\" stroke=\"black\" cx=\"573\" cy=\"-210.5\" rx=\"27\" ry=\"18\"/>\n<text text-anchor=\"middle\" x=\"573\" y=\"-206.8\" font-family=\"Times,serif\" font-size=\"14.00\">+</text>\n</g>\n<!-- 135823050883328&#45;&gt;135823050884960+ -->\n<g id=\"edge29\" class=\"edge\">\n<title>135823050883328&#45;&gt;135823050884960+</title>\n<path fill=\"none\" stroke=\"black\" d=\"M510.18,-221.89C519.61,-220.15 528.75,-218.47 536.98,-216.95\"/>\n<polygon fill=\"black\" stroke=\"black\" points=\"537.66,-220.39 546.86,-215.13 536.39,-213.5 537.66,-220.39\"/>\n</g>\n<!-- 135823050883328*&#45;&gt;135823050883328 -->\n<g id=\"edge4\" class=\"edge\">\n<title>135823050883328*&#45;&gt;135823050883328</title>\n<path fill=\"none\" stroke=\"black\" d=\"M292.13,-238.5C299.67,-238.5 308.39,-238.5 317.64,-238.5\"/>\n<polygon fill=\"black\" stroke=\"black\" points=\"317.87,-242 327.87,-238.5 317.87,-235 317.87,-242\"/>\n</g>\n<!-- 135823050885392 -->\n<g id=\"node13\" class=\"node\">\n<title>135823050885392</title>\n<polygon fill=\"none\" stroke=\"black\" points=\"636,-82.5 636,-118.5 831,-118.5 831,-82.5 636,-82.5\"/>\n<text text-anchor=\"middle\" x=\"652.5\" y=\"-96.8\" font-family=\"Times,serif\" font-size=\"14.00\">N2</text>\n<polyline fill=\"none\" stroke=\"black\" points=\"669,-82.5 669,-118.5 \"/>\n<text text-anchor=\"middle\" x=\"709\" y=\"-96.8\" font-family=\"Times,serif\" font-size=\"14.00\">data 1.0000</text>\n<polyline fill=\"none\" stroke=\"black\" points=\"749,-82.5 749,-118.5 \"/>\n<text text-anchor=\"middle\" x=\"790\" y=\"-96.8\" font-family=\"Times,serif\" font-size=\"14.00\">grad 0.0000</text>\n</g>\n<!-- 135823050885392&#45;&gt;135822590370016* -->\n<g id=\"edge22\" class=\"edge\">\n<title>135823050885392&#45;&gt;135822590370016*</title>\n<path fill=\"none\" stroke=\"black\" d=\"M831.27,-100.5C840.22,-100.5 848.85,-100.5 856.69,-100.5\"/>\n<polygon fill=\"black\" stroke=\"black\" points=\"856.83,-104 866.83,-100.5 856.83,-97 856.83,-104\"/>\n</g>\n<!-- 135823050885392+&#45;&gt;135823050885392 -->\n<g id=\"edge5\" class=\"edge\">\n<title>135823050885392+&#45;&gt;135823050885392</title>\n<path fill=\"none\" stroke=\"black\" d=\"M600.17,-100.5C607.66,-100.5 616.32,-100.5 625.56,-100.5\"/>\n<polygon fill=\"black\" stroke=\"black\" points=\"625.78,-104 635.78,-100.5 625.78,-97 625.78,-104\"/>\n</g>\n<!-- 135823050892064 -->\n<g id=\"node15\" class=\"node\">\n<title>135823050892064</title>\n<polygon fill=\"none\" stroke=\"black\" points=\"0,-0.5 0,-36.5 202,-36.5 202,-0.5 0,-0.5\"/>\n<text text-anchor=\"middle\" x=\"20\" y=\"-14.8\" font-family=\"Times,serif\" font-size=\"14.00\">w22</text>\n<polyline fill=\"none\" stroke=\"black\" points=\"40,-0.5 40,-36.5 \"/>\n<text text-anchor=\"middle\" x=\"80\" y=\"-14.8\" font-family=\"Times,serif\" font-size=\"14.00\">data 2.0000</text>\n<polyline fill=\"none\" stroke=\"black\" points=\"120,-0.5 120,-36.5 \"/>\n<text text-anchor=\"middle\" x=\"161\" y=\"-14.8\" font-family=\"Times,serif\" font-size=\"14.00\">grad 0.0000</text>\n</g>\n<!-- 135823050892064&#45;&gt;135823050885680* -->\n<g id=\"edge13\" class=\"edge\">\n<title>135823050892064&#45;&gt;135823050885680*</title>\n<path fill=\"none\" stroke=\"black\" d=\"M174.26,-36.52C183.66,-39.3 193.11,-42.32 202,-45.5 212.53,-49.27 223.76,-54.09 233.72,-58.66\"/>\n<polygon fill=\"black\" stroke=\"black\" points=\"232.29,-61.85 242.83,-62.92 235.26,-55.51 232.29,-61.85\"/>\n</g>\n<!-- 135823050899312 -->\n<g id=\"node16\" class=\"node\">\n<title>135823050899312</title>\n<polygon fill=\"none\" stroke=\"black\" points=\"328,-165.5 328,-201.5 510,-201.5 510,-165.5 328,-165.5\"/>\n<text text-anchor=\"middle\" x=\"338\" y=\"-179.8\" font-family=\"Times,serif\" font-size=\"14.00\"> </text>\n<polyline fill=\"none\" stroke=\"black\" points=\"348,-165.5 348,-201.5 \"/>\n<text text-anchor=\"middle\" x=\"388\" y=\"-179.8\" font-family=\"Times,serif\" font-size=\"14.00\">data 1.0000</text>\n<polyline fill=\"none\" stroke=\"black\" points=\"428,-165.5 428,-201.5 \"/>\n<text text-anchor=\"middle\" x=\"469\" y=\"-179.8\" font-family=\"Times,serif\" font-size=\"14.00\">grad 0.0000</text>\n</g>\n<!-- 135823050899312&#45;&gt;135823050885392+ -->\n<g id=\"edge18\" class=\"edge\">\n<title>135823050899312&#45;&gt;135823050885392+</title>\n<path fill=\"none\" stroke=\"black\" d=\"M491.01,-165.49C497.6,-162.85 504.03,-159.86 510,-156.5 525.4,-147.82 540.19,-134.72 551.46,-123.36\"/>\n<polygon fill=\"black\" stroke=\"black\" points=\"554.26,-125.5 558.66,-115.86 549.21,-120.65 554.26,-125.5\"/>\n</g>\n<!-- 135823050899312*&#45;&gt;135823050899312 -->\n<g id=\"edge6\" class=\"edge\">\n<title>135823050899312*&#45;&gt;135823050899312</title>\n<path fill=\"none\" stroke=\"black\" d=\"M292.13,-183.5C299.67,-183.5 308.39,-183.5 317.64,-183.5\"/>\n<polygon fill=\"black\" stroke=\"black\" points=\"317.87,-187 327.87,-183.5 317.87,-180 317.87,-187\"/>\n</g>\n<!-- 135822590377792 -->\n<g id=\"node18\" class=\"node\">\n<title>135822590377792</title>\n<polygon fill=\"none\" stroke=\"black\" points=\"1265,-109.5 1265,-145.5 1462,-145.5 1462,-109.5 1265,-109.5\"/>\n<text text-anchor=\"middle\" x=\"1282.5\" y=\"-123.8\" font-family=\"Times,serif\" font-size=\"14.00\">Fin</text>\n<polyline fill=\"none\" stroke=\"black\" points=\"1300,-109.5 1300,-145.5 \"/>\n<text text-anchor=\"middle\" x=\"1340\" y=\"-123.8\" font-family=\"Times,serif\" font-size=\"14.00\">data 9.0000</text>\n<polyline fill=\"none\" stroke=\"black\" points=\"1380,-109.5 1380,-145.5 \"/>\n<text text-anchor=\"middle\" x=\"1421\" y=\"-123.8\" font-family=\"Times,serif\" font-size=\"14.00\">grad 0.0000</text>\n</g>\n<!-- 135822590377792&#45;&gt;135822590363824ReLU -->\n<g id=\"edge14\" class=\"edge\">\n<title>135822590377792&#45;&gt;135822590363824ReLU</title>\n<path fill=\"none\" stroke=\"black\" d=\"M1462.39,-127.5C1471.26,-127.5 1479.9,-127.5 1487.85,-127.5\"/>\n<polygon fill=\"black\" stroke=\"black\" points=\"1487.88,-131 1497.88,-127.5 1487.88,-124 1487.88,-131\"/>\n</g>\n<!-- 135822590377792+&#45;&gt;135822590377792 -->\n<g id=\"edge7\" class=\"edge\">\n<title>135822590377792+&#45;&gt;135822590377792</title>\n<path fill=\"none\" stroke=\"black\" d=\"M1229.34,-127.5C1236.81,-127.5 1245.44,-127.5 1254.64,-127.5\"/>\n<polygon fill=\"black\" stroke=\"black\" points=\"1254.83,-131 1264.83,-127.5 1254.83,-124 1254.83,-131\"/>\n</g>\n<!-- 135823050884960 -->\n<g id=\"node20\" class=\"node\">\n<title>135823050884960</title>\n<polygon fill=\"none\" stroke=\"black\" points=\"636,-192.5 636,-228.5 831,-228.5 831,-192.5 636,-192.5\"/>\n<text text-anchor=\"middle\" x=\"652.5\" y=\"-206.8\" font-family=\"Times,serif\" font-size=\"14.00\">N1</text>\n<polyline fill=\"none\" stroke=\"black\" points=\"669,-192.5 669,-228.5 \"/>\n<text text-anchor=\"middle\" x=\"709\" y=\"-206.8\" font-family=\"Times,serif\" font-size=\"14.00\">data 3.0000</text>\n<polyline fill=\"none\" stroke=\"black\" points=\"749,-192.5 749,-228.5 \"/>\n<text text-anchor=\"middle\" x=\"790\" y=\"-206.8\" font-family=\"Times,serif\" font-size=\"14.00\">grad 0.0000</text>\n</g>\n<!-- 135823050898832* -->\n<g id=\"node25\" class=\"node\">\n<title>135823050898832*</title>\n<ellipse fill=\"none\" stroke=\"black\" cx=\"894\" cy=\"-155.5\" rx=\"27\" ry=\"18\"/>\n<text text-anchor=\"middle\" x=\"894\" y=\"-151.8\" font-family=\"Times,serif\" font-size=\"14.00\">*</text>\n</g>\n<!-- 135823050884960&#45;&gt;135823050898832* -->\n<g id=\"edge25\" class=\"edge\">\n<title>135823050884960&#45;&gt;135823050898832*</title>\n<path fill=\"none\" stroke=\"black\" d=\"M803.96,-192.43C813.12,-189.65 822.33,-186.65 831,-183.5 841.52,-179.68 852.74,-174.85 862.7,-170.29\"/>\n<polygon fill=\"black\" stroke=\"black\" points=\"864.23,-173.44 871.81,-166.03 861.27,-167.09 864.23,-173.44\"/>\n</g>\n<!-- 135823050884960+&#45;&gt;135823050884960 -->\n<g id=\"edge8\" class=\"edge\">\n<title>135823050884960+&#45;&gt;135823050884960</title>\n<path fill=\"none\" stroke=\"black\" d=\"M600.17,-210.5C607.66,-210.5 616.32,-210.5 625.56,-210.5\"/>\n<polygon fill=\"black\" stroke=\"black\" points=\"625.78,-214 635.78,-210.5 625.78,-207 625.78,-214\"/>\n</g>\n<!-- 135823050891632 -->\n<g id=\"node22\" class=\"node\">\n<title>135823050891632</title>\n<polygon fill=\"none\" stroke=\"black\" points=\"328,-110.5 328,-146.5 510,-146.5 510,-110.5 328,-110.5\"/>\n<text text-anchor=\"middle\" x=\"338\" y=\"-124.8\" font-family=\"Times,serif\" font-size=\"14.00\"> </text>\n<polyline fill=\"none\" stroke=\"black\" points=\"348,-110.5 348,-146.5 \"/>\n<text text-anchor=\"middle\" x=\"388\" y=\"-124.8\" font-family=\"Times,serif\" font-size=\"14.00\">data 0.0000</text>\n<polyline fill=\"none\" stroke=\"black\" points=\"428,-110.5 428,-146.5 \"/>\n<text text-anchor=\"middle\" x=\"469\" y=\"-124.8\" font-family=\"Times,serif\" font-size=\"14.00\">grad 0.0000</text>\n</g>\n<!-- 135823050891632&#45;&gt;135823050884960+ -->\n<g id=\"edge19\" class=\"edge\">\n<title>135823050891632&#45;&gt;135823050884960+</title>\n<path fill=\"none\" stroke=\"black\" d=\"M488.58,-146.52C496,-149.44 503.28,-152.75 510,-156.5 524.99,-164.87 539.58,-177.29 550.83,-188.11\"/>\n<polygon fill=\"black\" stroke=\"black\" points=\"548.49,-190.72 558.06,-195.27 553.42,-185.75 548.49,-190.72\"/>\n</g>\n<!-- 135823050891632* -->\n<g id=\"node23\" class=\"node\">\n<title>135823050891632*</title>\n<ellipse fill=\"none\" stroke=\"black\" cx=\"265\" cy=\"-128.5\" rx=\"27\" ry=\"18\"/>\n<text text-anchor=\"middle\" x=\"265\" y=\"-124.8\" font-family=\"Times,serif\" font-size=\"14.00\">*</text>\n</g>\n<!-- 135823050891632*&#45;&gt;135823050891632 -->\n<g id=\"edge9\" class=\"edge\">\n<title>135823050891632*&#45;&gt;135823050891632</title>\n<path fill=\"none\" stroke=\"black\" d=\"M292.13,-128.5C299.67,-128.5 308.39,-128.5 317.64,-128.5\"/>\n<polygon fill=\"black\" stroke=\"black\" points=\"317.87,-132 327.87,-128.5 317.87,-125 317.87,-132\"/>\n</g>\n<!-- 135823050898832 -->\n<g id=\"node24\" class=\"node\">\n<title>135823050898832</title>\n<polygon fill=\"none\" stroke=\"black\" points=\"957,-137.5 957,-173.5 1139,-173.5 1139,-137.5 957,-137.5\"/>\n<text text-anchor=\"middle\" x=\"967\" y=\"-151.8\" font-family=\"Times,serif\" font-size=\"14.00\"> </text>\n<polyline fill=\"none\" stroke=\"black\" points=\"977,-137.5 977,-173.5 \"/>\n<text text-anchor=\"middle\" x=\"1017\" y=\"-151.8\" font-family=\"Times,serif\" font-size=\"14.00\">data 6.0000</text>\n<polyline fill=\"none\" stroke=\"black\" points=\"1057,-137.5 1057,-173.5 \"/>\n<text text-anchor=\"middle\" x=\"1098\" y=\"-151.8\" font-family=\"Times,serif\" font-size=\"14.00\">grad 0.0000</text>\n</g>\n<!-- 135823050898832&#45;&gt;135822590377792+ -->\n<g id=\"edge26\" class=\"edge\">\n<title>135823050898832&#45;&gt;135822590377792+</title>\n<path fill=\"none\" stroke=\"black\" d=\"M1139.18,-138.89C1148.61,-137.15 1157.75,-135.47 1165.98,-133.95\"/>\n<polygon fill=\"black\" stroke=\"black\" points=\"1166.66,-137.39 1175.86,-132.13 1165.39,-130.5 1166.66,-137.39\"/>\n</g>\n<!-- 135823050898832*&#45;&gt;135823050898832 -->\n<g id=\"edge10\" class=\"edge\">\n<title>135823050898832*&#45;&gt;135823050898832</title>\n<path fill=\"none\" stroke=\"black\" d=\"M921.13,-155.5C928.67,-155.5 937.39,-155.5 946.64,-155.5\"/>\n<polygon fill=\"black\" stroke=\"black\" points=\"946.87,-159 956.87,-155.5 946.87,-152 946.87,-159\"/>\n</g>\n<!-- 135823050890192 -->\n<g id=\"node26\" class=\"node\">\n<title>135823050890192</title>\n<polygon fill=\"none\" stroke=\"black\" points=\"0,-110.5 0,-146.5 202,-146.5 202,-110.5 0,-110.5\"/>\n<text text-anchor=\"middle\" x=\"20\" y=\"-124.8\" font-family=\"Times,serif\" font-size=\"14.00\">w21</text>\n<polyline fill=\"none\" stroke=\"black\" points=\"40,-110.5 40,-146.5 \"/>\n<text text-anchor=\"middle\" x=\"80\" y=\"-124.8\" font-family=\"Times,serif\" font-size=\"14.00\">data 2.5000</text>\n<polyline fill=\"none\" stroke=\"black\" points=\"120,-110.5 120,-146.5 \"/>\n<text text-anchor=\"middle\" x=\"161\" y=\"-124.8\" font-family=\"Times,serif\" font-size=\"14.00\">grad 0.0000</text>\n</g>\n<!-- 135823050890192&#45;&gt;135823050891632* -->\n<g id=\"edge24\" class=\"edge\">\n<title>135823050890192&#45;&gt;135823050891632*</title>\n<path fill=\"none\" stroke=\"black\" d=\"M202.29,-128.5C211.28,-128.5 219.93,-128.5 227.77,-128.5\"/>\n<polygon fill=\"black\" stroke=\"black\" points=\"227.91,-132 237.91,-128.5 227.91,-125 227.91,-132\"/>\n</g>\n<!-- 135823050898400 -->\n<g id=\"node27\" class=\"node\">\n<title>135823050898400</title>\n<polygon fill=\"none\" stroke=\"black\" points=\"636,-137.5 636,-173.5 831,-173.5 831,-137.5 636,-137.5\"/>\n<text text-anchor=\"middle\" x=\"652.5\" y=\"-151.8\" font-family=\"Times,serif\" font-size=\"14.00\">w3</text>\n<polyline fill=\"none\" stroke=\"black\" points=\"669,-137.5 669,-173.5 \"/>\n<text text-anchor=\"middle\" x=\"709\" y=\"-151.8\" font-family=\"Times,serif\" font-size=\"14.00\">data 2.0000</text>\n<polyline fill=\"none\" stroke=\"black\" points=\"749,-137.5 749,-173.5 \"/>\n<text text-anchor=\"middle\" x=\"790\" y=\"-151.8\" font-family=\"Times,serif\" font-size=\"14.00\">grad 0.0000</text>\n</g>\n<!-- 135823050898400&#45;&gt;135823050898832* -->\n<g id=\"edge28\" class=\"edge\">\n<title>135823050898400&#45;&gt;135823050898832*</title>\n<path fill=\"none\" stroke=\"black\" d=\"M831.27,-155.5C840.22,-155.5 848.85,-155.5 856.69,-155.5\"/>\n<polygon fill=\"black\" stroke=\"black\" points=\"856.83,-159 866.83,-155.5 856.83,-152 856.83,-159\"/>\n</g>\n<!-- 135823050894320 -->\n<g id=\"node28\" class=\"node\">\n<title>135823050894320</title>\n<polygon fill=\"none\" stroke=\"black\" points=\"5,-55.5 5,-91.5 197,-91.5 197,-55.5 5,-55.5\"/>\n<text text-anchor=\"middle\" x=\"20\" y=\"-69.8\" font-family=\"Times,serif\" font-size=\"14.00\">x2</text>\n<polyline fill=\"none\" stroke=\"black\" points=\"35,-55.5 35,-91.5 \"/>\n<text text-anchor=\"middle\" x=\"75\" y=\"-69.8\" font-family=\"Times,serif\" font-size=\"14.00\">data 0.0000</text>\n<polyline fill=\"none\" stroke=\"black\" points=\"115,-55.5 115,-91.5 \"/>\n<text text-anchor=\"middle\" x=\"156\" y=\"-69.8\" font-family=\"Times,serif\" font-size=\"14.00\">grad 0.0000</text>\n</g>\n<!-- 135823050894320&#45;&gt;135823050885680* -->\n<g id=\"edge15\" class=\"edge\">\n<title>135823050894320&#45;&gt;135823050885680*</title>\n<path fill=\"none\" stroke=\"black\" d=\"M197.17,-73.5C207.87,-73.5 218.22,-73.5 227.45,-73.5\"/>\n<polygon fill=\"black\" stroke=\"black\" points=\"227.74,-77 237.74,-73.5 227.74,-70 227.74,-77\"/>\n</g>\n<!-- 135823050894320&#45;&gt;135823050891632* -->\n<g id=\"edge20\" class=\"edge\">\n<title>135823050894320&#45;&gt;135823050891632*</title>\n<path fill=\"none\" stroke=\"black\" d=\"M171.25,-91.55C181.63,-94.64 192.15,-97.99 202,-101.5 212.29,-105.16 223.28,-109.72 233.11,-114.05\"/>\n<polygon fill=\"black\" stroke=\"black\" points=\"231.93,-117.36 242.49,-118.26 234.8,-110.97 231.93,-117.36\"/>\n</g>\n</g>\n</svg>\n",
            "text/plain": [
              "<graphviz.graphs.Digraph at 0x7b87c4b37cd0>"
            ]
          },
          "metadata": {},
          "execution_count": 112
        }
      ]
    }
  ],
  "metadata": {
    "colab": {
      "provenance": []
    },
    "kernelspec": {
      "display_name": "Python 3 (ipykernel)",
      "language": "python",
      "name": "python3"
    },
    "language_info": {
      "codemirror_mode": {
        "name": "ipython",
        "version": 3
      },
      "file_extension": ".py",
      "mimetype": "text/x-python",
      "name": "python",
      "nbconvert_exporter": "python",
      "pygments_lexer": "ipython3",
      "version": "3.11.4"
    }
  },
  "nbformat": 4,
  "nbformat_minor": 5
}